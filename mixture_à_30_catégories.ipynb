{
  "cells": [
    {
      "cell_type": "markdown",
      "metadata": {},
      "source": [
        "# Prédiction à 30 clusters : arbre de mixture gaussienne\n",
        "\n",
        "*Authors : Théo Duquesne, Taliesine Gueye, Navarre Victor et Benjamin Pineau*"
      ]
    },
    {
      "cell_type": "markdown",
      "metadata": {
        "id": "i7skKkocWTwk"
      },
      "source": [
        "Ceci réalise un EM à 30 classes des étoiles\n",
        "\n",
        "Le principe est de constater que, avec beaucoup de classes, la classif est très bonne. L'idée serait ensuite de réunir ces classes par similarité, afin de de résuire leur nombre et d'arriver (optimalement) à 6 classes"
      ]
    },
    {
      "cell_type": "code",
      "execution_count": 1,
      "metadata": {
        "id": "7MZgvZc0WJRF"
      },
      "outputs": [
        {
          "ename": "NameError",
          "evalue": "name 'star_num_ns' is not defined",
          "output_type": "error",
          "traceback": [
            "\u001b[0;31m---------------------------------------------------------------------------\u001b[0m",
            "\u001b[0;31mNameError\u001b[0m                                 Traceback (most recent call last)",
            "Cell \u001b[0;32mIn[1], line 10\u001b[0m\n\u001b[1;32m      8\u001b[0m n_compo \u001b[38;5;241m=\u001b[39m \u001b[38;5;241m30\u001b[39m\n\u001b[1;32m      9\u001b[0m GMM_star_categorielle \u001b[38;5;241m=\u001b[39m GaussianMixture(n_components \u001b[38;5;241m=\u001b[39mn_compo, covariance_type\u001b[38;5;241m=\u001b[39m\u001b[38;5;124m'\u001b[39m\u001b[38;5;124mdiag\u001b[39m\u001b[38;5;124m'\u001b[39m, init_params \u001b[38;5;241m=\u001b[39m \u001b[38;5;124m'\u001b[39m\u001b[38;5;124mrandom_from_data\u001b[39m\u001b[38;5;124m'\u001b[39m)\n\u001b[0;32m---> 10\u001b[0m GMM_star_categorielle\u001b[38;5;241m.\u001b[39mfit(\u001b[43mstar_num_ns\u001b[49m)\n\u001b[1;32m     11\u001b[0m Y_pred \u001b[38;5;241m=\u001b[39m GMM_star_categorielle\u001b[38;5;241m.\u001b[39mpredict(star_num_ns)\n\u001b[1;32m     12\u001b[0m probs \u001b[38;5;241m=\u001b[39m GMM_star_categorielle\u001b[38;5;241m.\u001b[39mpredict_proba(star_num_ns)\n",
            "\u001b[0;31mNameError\u001b[0m: name 'star_num_ns' is not defined"
          ]
        }
      ],
      "source": [
        "import numpy as np\n",
        "import matplotlib.pyplot as plt\n",
        "from sklearn.mixture import GaussianMixture\n",
        "from sklearn.decomposition import PCA\n",
        "from sklearn.preprocessing import StandardScaler\n",
        "import collections\n",
        "\n",
        "n_compo = 30\n",
        "GMM_star_categorielle = GaussianMixture(n_components =n_compo, covariance_type='diag', init_params = 'random_from_data')\n",
        "GMM_star_categorielle.fit(star_num_ns)\n",
        "Y_pred = GMM_star_categorielle.predict(star_num_ns)\n",
        "probs = GMM_star_categorielle.predict_proba(star_num_ns)\n",
        "res = []\n",
        "for i in range (len(Y_pred)):\n",
        "  res+=[[str(Y_pred[i]), Y_goal[i]]]\n",
        "\n",
        "abs=[i for i in range((n_compo))]\n",
        "for e in star_cat:\n",
        "  valeurs_e = np.zeros(n_compo)\n",
        "  for i in range(n_compo):\n",
        "    valeurs_e[i]=0\n",
        "    for j in range(len(res)):\n",
        "      if res[j][0]==str(i) and res[j][1]==e:\n",
        "        valeurs_e[i]+=1\n",
        "  plt.bar(abs, valeurs_e, label=e)\n",
        "plt.legend()\n",
        "plt.show()\n",
        "#print(res)"
      ]
    }
  ],
  "metadata": {
    "colab": {
      "provenance": []
    },
    "kernelspec": {
      "display_name": "Python 3",
      "name": "python3"
    },
    "language_info": {
      "codemirror_mode": {
        "name": "ipython",
        "version": 3
      },
      "file_extension": ".py",
      "mimetype": "text/x-python",
      "name": "python",
      "nbconvert_exporter": "python",
      "pygments_lexer": "ipython3",
      "version": "3.11.9"
    }
  },
  "nbformat": 4,
  "nbformat_minor": 0
}
