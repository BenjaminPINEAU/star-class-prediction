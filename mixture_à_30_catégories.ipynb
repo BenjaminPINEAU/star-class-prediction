{
  "cells": [
    {
      "cell_type": "markdown",
      "metadata": {
        "id": "i7skKkocWTwk"
      },
      "source": [
        "Ceci réalise un EM à 30 classes des étoiles\n",
        "Le principe est de constater que, avec beaucoup de classes, la classif est très bonne\n",
        "L'idée serait ensuite de réunir ces classes par similarité, afin de de résuire leur nombre et d'arriver (optimalement) à 6 classes"
      ]
    },
    {
      "cell_type": "code",
      "execution_count": null,
      "metadata": {
        "id": "7MZgvZc0WJRF"
      },
      "outputs": [],
      "source": [
        "import numpy as np\n",
        "import matplotlib.pyplot as plt\n",
        "from sklearn.mixture import GaussianMixture\n",
        "from sklearn.decomposition import PCA\n",
        "from sklearn.preprocessing import StandardScaler\n",
        "import collections\n",
        "\n",
        "n_compo = 30\n",
        "GMM_star_categorielle = GaussianMixture(n_components =n_compo, covariance_type='diag', init_params = 'random_from_data')\n",
        "GMM_star_categorielle.fit(star_num_ns)\n",
        "Y_pred = GMM_star_categorielle.predict(star_num_ns)\n",
        "probs = GMM_star_categorielle.predict_proba(star_num_ns)\n",
        "res = []\n",
        "for i in range (len(Y_pred)):\n",
        "  res+=[[str(Y_pred[i]), Y_goal[i]]]\n",
        "\n",
        "abs=[i for i in range((n_compo))]\n",
        "for e in star_cat:\n",
        "  valeurs_e = np.zeros(n_compo)\n",
        "  for i in range(n_compo):\n",
        "    valeurs_e[i]=0\n",
        "    for j in range(len(res)):\n",
        "      if res[j][0]==str(i) and res[j][1]==e:\n",
        "        valeurs_e[i]+=1\n",
        "  plt.bar(abs, valeurs_e, label=e)\n",
        "plt.legend()\n",
        "plt.show()\n",
        "#print(res)"
      ]
    }
  ],
  "metadata": {
    "colab": {
      "provenance": []
    },
    "kernelspec": {
      "display_name": "Python 3",
      "name": "python3"
    },
    "language_info": {
      "name": "python"
    }
  },
  "nbformat": 4,
  "nbformat_minor": 0
}
