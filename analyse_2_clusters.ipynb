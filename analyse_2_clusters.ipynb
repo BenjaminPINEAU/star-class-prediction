{
 "cells": [
  {
   "cell_type": "code",
   "execution_count": 1,
   "metadata": {},
   "outputs": [],
   "source": [
    "# Importation des librairies\n",
    "import numpy as np\n",
    "import pandas as pd\n",
    "import matplotlib.pyplot as plt\n",
    "import numpy.random as rnd\n",
    "from scipy.stats import norm\n",
    "from scipy.stats import multivariate_normal\n",
    "from sklearn.mixture import GaussianMixture\n",
    "from sklearn.datasets import make_blobs\n",
    "from skimage import io\n",
    "from PIL import Image\n",
    "from io import BytesIO\n",
    "import requests\n",
    "from skimage.util import view_as_windows"
   ]
  },
  {
   "cell_type": "markdown",
   "metadata": {},
   "source": [
    "On va faire 2 clusters, et on va essayer de comprendre comment sont réparties les données dans ces dernier. Cela permettra d'exhiber des correlations entre variable (ex: y a il une correlation entre la classe A et le fait que la température soit inférieure à 3000 deg K ?)"
   ]
  },
  {
   "cell_type": "code",
   "execution_count": 2,
   "metadata": {},
   "outputs": [],
   "source": [
    "# Importation des données\n",
    "star_data = pd.read_csv ('data_star.csv')"
   ]
  },
  {
   "cell_type": "code",
   "execution_count": 12,
   "metadata": {},
   "outputs": [],
   "source": [
    "# On enleve la classe de l'étoile pour faire de l'apprentissage supervisée\n",
    "star_data_model_pd = star_data.drop(columns = ['Star category'])\n",
    "star_data_model_pd = star_data_model_pd.drop(columns = ['Star type'])\n",
    "\n",
    "# Encodage des données string en float afin de pouvoir utiliser des méthodes de mélanges gaussiens plus facilement\n",
    "star_data_model_pd['Star color'], _ = pd.factorize(star_data_model_pd['Star color'])\n",
    "star_data_model_pd['Spectral Class'], _ = pd.factorize(star_data_model_pd['Spectral Class'])\n",
    "\n",
    "star_data_model_np = np.array(star_data_model_pd)"
   ]
  },
  {
   "cell_type": "code",
   "execution_count": 28,
   "metadata": {},
   "outputs": [
    {
     "data": {
      "image/png": "[encoded data removed]",
      "text/plain": [
       "<Figure size 640x480 with 1 Axes>"
      ]
     },
     "metadata": {},
     "output_type": "display_data"
    }
   ],
   "source": [
    "GMM_star_bic_categ = GaussianMixture(n_components = 2, covariance_type='diag', init_params = 'random_from_data')\n",
    "GMM_star_bic_categ.fit(star_data_model_np)\n",
    "\n",
    "Y_pred_bic_categ = GMM_star_bic_categ.predict(star_data_model_np)\n",
    "plt.hist(Y_pred_bic_categ, density = True, alpha = 0.6, label = 'prediction')\n",
    "#plt.hist(star_data_categ, density = True, alpha = 0.6, label = 'class')\n",
    "plt.legend()\n",
    "plt.show()"
   ]
  },
  {
   "cell_type": "code",
   "execution_count": 29,
   "metadata": {},
   "outputs": [
    {
     "name": "stdout",
     "output_type": "stream",
     "text": [
      "Temperature < 5000K  False  True \n",
      "row_0                            \n",
      "0                      124      6\n",
      "1                        0    110\n"
     ]
    }
   ],
   "source": [
    "star_data_model_pd[\"Temperature < 5000K\"] = star_data_model_pd[\"Temperature (K)\"] < 5000\n",
    "\n",
    "correlation_table = pd.crosstab(Y_pred_bic_categ, star_data_model_pd[\"Temperature < 5000K\"])\n",
    "print(correlation_table)"
   ]
  },
  {
   "cell_type": "markdown",
   "metadata": {},
   "source": [
    "Dans le cas précédent, la valeur de 5000 K a été prise en regardant simplement les données et en 'estimant' à la louche une valeur à partir de laquelle on pourrait être discriminant. "
   ]
  },
  {
   "cell_type": "code",
   "execution_count": 30,
   "metadata": {},
   "outputs": [
    {
     "name": "stdout",
     "output_type": "stream",
     "text": [
      "5776.0\n"
     ]
    }
   ],
   "source": [
    "temp_med = star_data_model_pd[\"Temperature (K)\"].median()\n",
    "print(temp_med)"
   ]
  },
  {
   "cell_type": "code",
   "execution_count": 31,
   "metadata": {},
   "outputs": [
    {
     "name": "stdout",
     "output_type": "stream",
     "text": [
      "Temperature < temp_med  False  True \n",
      "row_0                               \n",
      "0                         120     10\n",
      "1                           0    110\n"
     ]
    }
   ],
   "source": [
    "star_data_model_pd[\"Temperature < temp_med\"] = star_data_model_pd[\"Temperature (K)\"] < temp_med\n",
    "\n",
    "correlation_table = pd.crosstab(Y_pred_bic_categ, star_data_model_pd[\"Temperature < temp_med\"])\n",
    "print(correlation_table)"
   ]
  },
  {
   "cell_type": "code",
   "execution_count": 36,
   "metadata": {},
   "outputs": [
    {
     "data": {
      "text/plain": [
       "(array([9.68677912e-05, 3.82965686e-05, 2.92856113e-05, 1.57691753e-05,\n",
       "        1.12636967e-05, 2.92856113e-05, 1.35164360e-05, 1.12636967e-05,\n",
       "        1.12636967e-05, 1.35164360e-05]),\n",
       " array([ 3008. ,  6707.2, 10406.4, 14105.6, 17804.8, 21504. , 25203.2,\n",
       "        28902.4, 32601.6, 36300.8, 40000. ]),\n",
       " <BarContainer object of 10 artists>)"
      ]
     },
     "execution_count": 36,
     "metadata": {},
     "output_type": "execute_result"
    },
    {
     "data": {
      "image/png": "[encoded data removed]",
      "text/plain": [
       "<Figure size 640x480 with 1 Axes>"
      ]
     },
     "metadata": {},
     "output_type": "display_data"
    }
   ],
   "source": [
    "star_data_categ = star_data[\"Star category\"].apply(lambda x: \"Dwarf\" if \"Dwarf\" in x else \"Giant\")\n",
    "filtered_temps_dwarf = star_data_model_pd.loc[star_data_categ == \"Dwarf\", \"Temperature (K)\"]\n",
    "filtered_temps_giant = star_data_model_pd.loc[star_data_categ == \"Giant\", \"Temperature (K)\"]\n",
    "plt.hist(filtered_temps_dwarf, density = True, alpha = 0.6, label = 'prediction')\n",
    "plt.hist(filtered_temps_giant, density = True, alpha = 0.6, label = 'prediction')"
   ]
  }
 ],
 "metadata": {
  "kernelspec": {
   "display_name": "Python 3",
   "language": "python",
   "name": "python3"
  },
  "language_info": {
   "codemirror_mode": {
    "name": "ipython",
    "version": 3
   },
   "file_extension": ".py",
   "mimetype": "text/x-python",
   "name": "python",
   "nbconvert_exporter": "python",
   "pygments_lexer": "ipython3",
   "version": "3.11.9"
  }
 },
 "nbformat": 4,
 "nbformat_minor": 2
}
