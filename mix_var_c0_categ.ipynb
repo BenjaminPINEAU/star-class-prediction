{
 "cells": [
  {
   "cell_type": "code",
   "execution_count": 7,
   "metadata": {},
   "outputs": [],
   "source": [
    "# Importation des librairies\n",
    "import numpy as np\n",
    "import pandas as pd\n",
    "import matplotlib.pyplot as plt\n",
    "import numpy.random as rnd\n",
    "from scipy.stats import norm\n",
    "from scipy.stats import multivariate_normal\n",
    "from sklearn.mixture import GaussianMixture\n",
    "from sklearn.datasets import make_blobs\n",
    "from skimage import io\n",
    "from PIL import Image\n",
    "from io import BytesIO\n",
    "import requests\n",
    "from skimage.util import view_as_windows\n",
    "from stepmix.stepmix import StepMix\n",
    "from stepmix.utils import get_mixed_descriptor"
   ]
  },
  {
   "cell_type": "code",
   "execution_count": 2,
   "metadata": {},
   "outputs": [],
   "source": [
    "# Importation des données\n",
    "star_data = pd.read_csv ('data_star.csv')"
   ]
  },
  {
   "cell_type": "code",
   "execution_count": 3,
   "metadata": {},
   "outputs": [
    {
     "name": "stdout",
     "output_type": "stream",
     "text": [
      "Couleur categ\n",
      "10               112\n",
      "4                 56\n",
      "3                 41\n",
      "0                 15\n",
      "1                 13\n",
      "8                  2\n",
      "9                  1\n",
      "Name: count, dtype: int64\n"
     ]
    }
   ],
   "source": [
    "condition_couleur = [\n",
    "    star_data[\"Star color\"] == \"Red\",\n",
    "    star_data[\"Star color\"] == \"Blue\",\n",
    "    star_data[\"Star color\"] == \"Blue White\",\n",
    "    star_data[\"Star color\"] == \"Yellow White\",\n",
    "    star_data[\"Star color\"] == \"White\",\n",
    "    star_data[\"Star color\"] == \"Yellowhish\",\n",
    "    star_data[\"Star color\"] == \"Orange\",\n",
    "    star_data[\"Star color\"] == \"Orange Red\",\n",
    "]\n",
    "\n",
    "categories_couleur = [10, 4, 3, 1, 0, 2, 8, 9]\n",
    "\n",
    "star_data[\"Couleur categ\"] = np.select(condition_couleur, categories_couleur)\n",
    "print(star_data[['Couleur categ']].value_counts())"
   ]
  },
  {
   "cell_type": "code",
   "execution_count": 4,
   "metadata": {},
   "outputs": [
    {
     "name": "stderr",
     "output_type": "stream",
     "text": [
      "/var/folders/vv/yd9tg_vd01b85m5mbpmc1v3r0000gn/T/ipykernel_44390/2265824004.py:1: FutureWarning: Downcasting behavior in `replace` is deprecated and will be removed in a future version. To retain the old behavior, explicitly call `result.infer_objects(copy=False)`. To opt-in to the future behavior, set `pd.set_option('future.no_silent_downcasting', True)`\n",
      "  star_data.replace({'Spectral Class':{'M':0, 'A':1, 'B':2, 'F':1, 'O':2, 'K':0, 'G':1 }}, inplace = True)\n"
     ]
    }
   ],
   "source": [
    "star_data.replace({'Spectral Class':{'M':0, 'A':1, 'B':2, 'F':1, 'O':2, 'K':0, 'G':1 }}, inplace = True)"
   ]
  },
  {
   "cell_type": "code",
   "execution_count": 6,
   "metadata": {},
   "outputs": [],
   "source": [
    "star_data_model = star_data.drop(columns = ['Star category'])\n",
    "star_data_model = star_data_model.drop(columns = ['Star color'])"
   ]
  },
  {
   "cell_type": "code",
   "execution_count": 9,
   "metadata": {},
   "outputs": [],
   "source": [
    "mixed_data, mixed_descriptor = get_mixed_descriptor(\n",
    "    dataframe = star_data_model,\n",
    "    continuous = ['Temperature (K)', 'Luminosity (L/Lo)', 'Radius (R/Ro)', 'Absolute magnitude (Mv)'],\n",
    "    categorical = ['Star type', 'Couleur categ', 'Spectral Class']\n",
    ")"
   ]
  },
  {
   "cell_type": "code",
   "execution_count": 10,
   "metadata": {},
   "outputs": [
    {
     "name": "stdout",
     "output_type": "stream",
     "text": [
      "Fitting StepMix...\n"
     ]
    },
    {
     "name": "stderr",
     "output_type": "stream",
     "text": [
      "Initializations (n_init) : 100%|██████████| 1/1 [00:00<00:00, 98.31it/s, max_LL=-5.11e+3, max_avg_LL=-21.3]"
     ]
    },
    {
     "name": "stdout",
     "output_type": "stream",
     "text": [
      "================================================================================\n",
      "MODEL REPORT\n",
      "================================================================================\n",
      "    ============================================================================\n",
      "    Measurement model parameters\n",
      "    ============================================================================\n",
      "          model_name                             continuous                                                                     \n",
      "          class_no                                        0            1             2             3             4             5\n",
      "          param       variable                                                                                                  \n",
      "          covariances Absolute magnitude (Mv)  7.614000e-01       8.0133  4.281400e+00  4.076600e+00  1.132800e+01  1.182000e+00\n",
      "                      Luminosity (L/Lo)        3.166506e+10       0.0000  5.431693e+07  1.579766e+10  1.342000e-01  6.136677e+10\n",
      "                      Radius (R/Ro)            8.594655e+02       0.0261  3.761700e+00  3.549362e+05  1.484000e-01  1.141699e+05\n",
      "                      Temperature (K)          9.945883e+07  109698.1248  4.655226e+07  1.832028e+06  3.081413e+07  7.915368e+07\n",
      "          means       Absolute magnitude (Mv) -6.044900e+00      15.0517 -1.479700e+00 -9.109200e+00  1.102330e+01 -8.920800e+00\n",
      "                      Luminosity (L/Lo)        3.039078e+05       0.0030  4.897181e+03  2.472620e+05  1.527000e-01  4.200329e+05\n",
      "                      Radius (R/Ro)            4.522080e+01       0.2291  5.045400e+00  1.034306e+03  2.014000e-01  1.373839e+03\n",
      "                      Temperature (K)          2.140592e+04    3140.8875  1.569920e+04  3.986361e+03  1.223815e+04  2.644323e+04\n",
      "\n",
      "\n",
      "          model_name             categorical                                     \n",
      "          class_no                         0    1       2       3       4       5\n",
      "          param variable                                                         \n",
      "          pis   Couleur categ_0       0.0000  0.0  0.0832  0.0556  0.2202  0.0000\n",
      "                Couleur categ_1       0.0000  0.0  0.0847  0.0000  0.2194  0.0000\n",
      "                Couleur categ_10      0.0000  1.0  0.0000  0.8889  0.0000  0.0000\n",
      "                Couleur categ_3       0.0271  0.0  0.8321  0.0000  0.2802  0.4615\n",
      "                Couleur categ_4       0.9729  0.0  0.0000  0.0000  0.2602  0.5385\n",
      "                Couleur categ_8       0.0000  0.0  0.0000  0.0556  0.0000  0.0000\n",
      "                Couleur categ_9       0.0000  0.0  0.0000  0.0000  0.0200  0.0000\n",
      "                Spectral Class_0      0.0000  1.0  0.0000  0.9167  0.0801  0.0000\n",
      "                Spectral Class_1      0.0000  0.0  0.5008  0.0833  0.4396  0.0000\n",
      "                Spectral Class_2      1.0000  0.0  0.4992  0.0000  0.4803  1.0000\n",
      "                Star type_0           0.0000  0.5  0.0000  0.0000  0.0000  0.0000\n",
      "                Star type_1           0.0000  0.5  0.0000  0.0000  0.0000  0.0000\n",
      "                Star type_2           0.0000  0.0  0.0000  0.0000  0.8006  0.0000\n",
      "                Star type_3           0.1622  0.0  1.0000  0.0000  0.1994  0.0000\n",
      "                Star type_4           0.8378  0.0  0.0000  0.2500  0.0000  0.0000\n",
      "                Star type_5           0.0000  0.0  0.0000  0.7500  0.0000  1.0000\n",
      "\n",
      "\n",
      "    ============================================================================\n",
      "    Class weights\n",
      "    ============================================================================\n",
      "        Class 1 : 0.15\n",
      "        Class 2 : 0.33\n",
      "        Class 3 : 0.10\n",
      "        Class 4 : 0.15\n",
      "        Class 5 : 0.21\n",
      "        Class 6 : 0.05\n",
      "    ============================================================================\n",
      "    Fit for 6 latent classes\n",
      "    ============================================================================\n",
      "    Estimation method             : 1-step\n",
      "    Number of observations        : 240\n",
      "    Number of latent classes      : 6\n",
      "    Number of estimated parameters: 155\n",
      "    Log-likelihood (LL)           : -5106.9594\n",
      "    -2LL                          : 10213.9188\n",
      "    Average LL                    : -21.2790\n",
      "    AIC                           : 10523.92\n",
      "    BIC                           : 11063.42\n",
      "    CAIC                          : 11218.42\n",
      "    Sample-Size Adjusted BIC      : 11421.60\n",
      "    Entropy                       : 0.1873\n",
      "    Scaled Relative Entropy       : 0.9996\n"
     ]
    },
    {
     "name": "stderr",
     "output_type": "stream",
     "text": [
      "\n"
     ]
    }
   ],
   "source": [
    "model = StepMix(n_components = 6, measurement = mixed_descriptor, verbose = 1, random_state = 123)\n",
    "# Fit model\n",
    "model.fit(star_data_model)\n",
    "\n",
    "# Class predictions\n",
    "Y_predict = model.predict(star_data_model)"
   ]
  },
  {
   "cell_type": "code",
   "execution_count": 13,
   "metadata": {},
   "outputs": [
    {
     "name": "stdout",
     "output_type": "stream",
     "text": [
      "     prediction       classe\n",
      "0             1  Brown Dwarf\n",
      "1             1  Brown Dwarf\n",
      "2             1  Brown Dwarf\n",
      "3             1  Brown Dwarf\n",
      "4             1  Brown Dwarf\n",
      "..          ...          ...\n",
      "235           5   Hypergiant\n",
      "236           5   Hypergiant\n",
      "237           3   Hypergiant\n",
      "238           3   Hypergiant\n",
      "239           5   Hypergiant\n",
      "\n",
      "[240 rows x 2 columns]\n"
     ]
    }
   ],
   "source": [
    "classe_array = np.array(star_data['Star category'])\n",
    "Y_pred_array = np.array(Y_predict)\n",
    "df = pd.DataFrame({\n",
    "    'prediction' : Y_pred_array,\n",
    "    'classe' : classe_array\n",
    "})\n",
    "print(df)\n",
    "df.to_csv(\"prediction_classes2.csv\", index=False)"
   ]
  }
 ],
 "metadata": {
  "kernelspec": {
   "display_name": "Python 3",
   "language": "python",
   "name": "python3"
  },
  "language_info": {
   "codemirror_mode": {
    "name": "ipython",
    "version": 3
   },
   "file_extension": ".py",
   "mimetype": "text/x-python",
   "name": "python",
   "nbconvert_exporter": "python",
   "pygments_lexer": "ipython3",
   "version": "3.11.9"
  }
 },
 "nbformat": 4,
 "nbformat_minor": 2
}
